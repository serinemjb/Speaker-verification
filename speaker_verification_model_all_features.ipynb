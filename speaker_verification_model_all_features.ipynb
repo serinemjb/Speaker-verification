{
  "nbformat": 4,
  "nbformat_minor": 0,
  "metadata": {
    "colab": {
      "provenance": []
    },
    "kernelspec": {
      "name": "python3",
      "display_name": "Python 3"
    },
    "language_info": {
      "name": "python"
    }
  },
  "cells": [
    {
      "cell_type": "markdown",
      "source": [
        "# Importing libraries and guetting access to drive"
      ],
      "metadata": {
        "id": "qwRzKTt5c3nc"
      }
    },
    {
      "cell_type": "code",
      "execution_count": null,
      "metadata": {
        "id": "NhdNrtlwRTF2"
      },
      "outputs": [],
      "source": [
        "import json\n",
        "import numpy as np\n",
        "from sklearn.model_selection import train_test_split\n",
        "import tensorflow.keras as keras\n",
        "import matplotlib.pyplot as plt\n",
        "from sklearn.preprocessing import normalize, MinMaxScaler\n",
        "from sklearn.metrics import confusion_matrix\n",
        "import random"
      ]
    },
    {
      "cell_type": "code",
      "source": [
        "from google.colab import drive\n",
        "drive.mount('/content/drive')"
      ],
      "metadata": {
        "colab": {
          "base_uri": "https://localhost:8080/"
        },
        "id": "46AHgaAabXEX",
        "outputId": "cc18f1da-56d9-4983-e48d-71764d8872ec"
      },
      "execution_count": null,
      "outputs": [
        {
          "output_type": "stream",
          "name": "stdout",
          "text": [
            "Mounted at /content/drive\n"
          ]
        }
      ]
    },
    {
      "cell_type": "markdown",
      "source": [
        "# Loading dataset"
      ],
      "metadata": {
        "id": "L5JOj26gc82u"
      }
    },
    {
      "cell_type": "code",
      "source": [
        "def load_data(data_path):\n",
        "\n",
        "  with open(data_path, 'r') as fp:\n",
        "    data = json.load(fp)\n",
        "  X = np.array(data[\"features\"])\n",
        "  Y = np.array(data[\"labels\"])\n",
        "\n",
        "  return X, Y"
      ],
      "metadata": {
        "id": "_ecLuQlubsFn"
      },
      "execution_count": null,
      "outputs": []
    },
    {
      "cell_type": "code",
      "source": [
        "data_path = '/content/drive/MyDrive/Dataset2.json'"
      ],
      "metadata": {
        "id": "LCau97K1yaou"
      },
      "execution_count": null,
      "outputs": []
    },
    {
      "cell_type": "code",
      "source": [
        "X, Y = load_data(data_path)"
      ],
      "metadata": {
        "id": "4grpbBPbyThw"
      },
      "execution_count": null,
      "outputs": []
    },
    {
      "cell_type": "code",
      "source": [
        "X.shape"
      ],
      "metadata": {
        "colab": {
          "base_uri": "https://localhost:8080/"
        },
        "id": "mu44NONzyunv",
        "outputId": "bf9981f1-74cf-4231-bffd-c270d37cc393"
      },
      "execution_count": null,
      "outputs": [
        {
          "output_type": "execute_result",
          "data": {
            "text/plain": [
              "(947, 30, 45)"
            ]
          },
          "metadata": {},
          "execution_count": 6
        }
      ]
    },
    {
      "cell_type": "code",
      "source": [
        "Testset_path = '/content/drive/MyDrive/Test.json'"
      ],
      "metadata": {
        "id": "UpCWy1D4EfLF"
      },
      "execution_count": null,
      "outputs": []
    },
    {
      "cell_type": "code",
      "source": [
        "X_test, Y_test = load_data(Testset_path)"
      ],
      "metadata": {
        "id": "GSK_09LYEon9"
      },
      "execution_count": null,
      "outputs": []
    },
    {
      "cell_type": "code",
      "source": [
        "X_test.shape"
      ],
      "metadata": {
        "colab": {
          "base_uri": "https://localhost:8080/"
        },
        "id": "1J9eZy2jEwEE",
        "outputId": "11844079-9ed4-40cd-daeb-f4029c3572c0"
      },
      "execution_count": null,
      "outputs": [
        {
          "output_type": "execute_result",
          "data": {
            "text/plain": [
              "(36, 30, 45)"
            ]
          },
          "metadata": {},
          "execution_count": 9
        }
      ]
    },
    {
      "cell_type": "markdown",
      "source": [
        "# Normalizing the data"
      ],
      "metadata": {
        "id": "HVoAvW25yc3q"
      }
    },
    {
      "cell_type": "code",
      "source": [
        "X_test, _, Y_test, _ = train_test_split(X_test, Y_test, test_size=0.05, random_state=7,shuffle=True)"
      ],
      "metadata": {
        "id": "xJTZ7AshGAdz"
      },
      "execution_count": null,
      "outputs": []
    },
    {
      "cell_type": "code",
      "source": [
        "X_test.shape"
      ],
      "metadata": {
        "colab": {
          "base_uri": "https://localhost:8080/"
        },
        "id": "9FbwhbuRQaB8",
        "outputId": "d49021f8-2efd-4536-f023-517e1d0c5f36"
      },
      "execution_count": null,
      "outputs": [
        {
          "output_type": "execute_result",
          "data": {
            "text/plain": [
              "(34, 30, 45)"
            ]
          },
          "metadata": {},
          "execution_count": 11
        }
      ]
    },
    {
      "cell_type": "markdown",
      "source": [
        "# Creating train, validation and test sets"
      ],
      "metadata": {
        "id": "l3d6KRAedJS9"
      }
    },
    {
      "cell_type": "code",
      "source": [
        "X_train, X_validation, Y_train, Y_validation = train_test_split(X, Y, test_size=0.2, random_state=7, shuffle=True)"
      ],
      "metadata": {
        "id": "ClpaiJF6dOMv"
      },
      "execution_count": null,
      "outputs": []
    },
    {
      "cell_type": "code",
      "source": [
        "input_shape = (X_train.shape[1], X_train.shape[2])"
      ],
      "metadata": {
        "id": "TUcBOFqloL9K"
      },
      "execution_count": null,
      "outputs": []
    },
    {
      "cell_type": "code",
      "source": [
        "X_train.shape"
      ],
      "metadata": {
        "colab": {
          "base_uri": "https://localhost:8080/"
        },
        "id": "uZQzODDkM1jW",
        "outputId": "f4d74e0c-6b24-4e04-faf6-bfa7113e1d8c"
      },
      "execution_count": null,
      "outputs": [
        {
          "output_type": "execute_result",
          "data": {
            "text/plain": [
              "(757, 30, 45)"
            ]
          },
          "metadata": {},
          "execution_count": 30
        }
      ]
    },
    {
      "cell_type": "markdown",
      "source": [
        "# Building the model"
      ],
      "metadata": {
        "id": "M9PUHEcOocjI"
      }
    },
    {
      "cell_type": "code",
      "source": [
        "def build_model(input_shape):\n",
        "  model = keras.Sequential()\n",
        "\n",
        "  model.add(keras.layers.LSTM(64, input_shape=input_shape, return_sequences=True))\n",
        "  model.add(keras.layers.LSTM(64))\n",
        "\n",
        "  model.add(keras.layers.Dense(256, activation='relu'))\n",
        "  model.add(keras.layers.Dropout(0.3))\n",
        "\n",
        "  model.add(keras.layers.Dense(1, activation='sigmoid'))\n",
        "\n",
        "  return model\n"
      ],
      "metadata": {
        "id": "Qko1EF8Boel7"
      },
      "execution_count": null,
      "outputs": []
    },
    {
      "cell_type": "code",
      "source": [
        "model = build_model(input_shape)\n",
        "optimizer = keras.optimizers.Adam(learning_rate=0.0001)\n",
        "model.compile(optimizer=optimizer,\n",
        "              loss='binary_crossentropy',\n",
        "              metrics=['accuracy'])\n",
        "# Define early stopping criteria\n",
        "\n",
        "model.summary()\n",
        "\n",
        "history = model.fit(X_train, Y_train, validation_data=(X_validation, Y_validation), batch_size=32, epochs=100)\n",
        "\n"
      ],
      "metadata": {
        "colab": {
          "base_uri": "https://localhost:8080/"
        },
        "id": "TbMMHHWTz37T",
        "outputId": "750df69d-8f1d-4964-ed4b-2c36d085f503"
      },
      "execution_count": null,
      "outputs": [
        {
          "output_type": "stream",
          "name": "stdout",
          "text": [
            "Model: \"sequential_1\"\n",
            "_________________________________________________________________\n",
            " Layer (type)                Output Shape              Param #   \n",
            "=================================================================\n",
            " lstm_2 (LSTM)               (None, 30, 64)            28160     \n",
            "                                                                 \n",
            " lstm_3 (LSTM)               (None, 64)                33024     \n",
            "                                                                 \n",
            " dense_2 (Dense)             (None, 256)               16640     \n",
            "                                                                 \n",
            " dropout_1 (Dropout)         (None, 256)               0         \n",
            "                                                                 \n",
            " dense_3 (Dense)             (None, 1)                 257       \n",
            "                                                                 \n",
            "=================================================================\n",
            "Total params: 78081 (305.00 KB)\n",
            "Trainable params: 78081 (305.00 KB)\n",
            "Non-trainable params: 0 (0.00 Byte)\n",
            "_________________________________________________________________\n",
            "Epoch 1/100\n",
            "24/24 [==============================] - 7s 70ms/step - loss: 0.6926 - accuracy: 0.5099 - val_loss: 0.6876 - val_accuracy: 0.5632\n",
            "Epoch 2/100\n",
            "24/24 [==============================] - 1s 31ms/step - loss: 0.6856 - accuracy: 0.5614 - val_loss: 0.6850 - val_accuracy: 0.5842\n",
            "Epoch 3/100\n",
            "24/24 [==============================] - 1s 32ms/step - loss: 0.6815 - accuracy: 0.5746 - val_loss: 0.6828 - val_accuracy: 0.5895\n",
            "Epoch 4/100\n",
            "24/24 [==============================] - 1s 32ms/step - loss: 0.6751 - accuracy: 0.6011 - val_loss: 0.6707 - val_accuracy: 0.5947\n",
            "Epoch 5/100\n",
            "24/24 [==============================] - 1s 32ms/step - loss: 0.6470 - accuracy: 0.6618 - val_loss: 0.6360 - val_accuracy: 0.7105\n",
            "Epoch 6/100\n",
            "24/24 [==============================] - 1s 31ms/step - loss: 0.6200 - accuracy: 0.6856 - val_loss: 0.6192 - val_accuracy: 0.6579\n",
            "Epoch 7/100\n",
            "24/24 [==============================] - 1s 33ms/step - loss: 0.5851 - accuracy: 0.7107 - val_loss: 0.5790 - val_accuracy: 0.7105\n",
            "Epoch 8/100\n",
            "24/24 [==============================] - 1s 32ms/step - loss: 0.5414 - accuracy: 0.7543 - val_loss: 0.5667 - val_accuracy: 0.7053\n",
            "Epoch 9/100\n",
            "24/24 [==============================] - 1s 32ms/step - loss: 0.5383 - accuracy: 0.7318 - val_loss: 0.5439 - val_accuracy: 0.7316\n",
            "Epoch 10/100\n",
            "24/24 [==============================] - 1s 32ms/step - loss: 0.5020 - accuracy: 0.7794 - val_loss: 0.5225 - val_accuracy: 0.7579\n",
            "Epoch 11/100\n",
            "24/24 [==============================] - 1s 48ms/step - loss: 0.4792 - accuracy: 0.7820 - val_loss: 0.4745 - val_accuracy: 0.7789\n",
            "Epoch 12/100\n",
            "24/24 [==============================] - 1s 50ms/step - loss: 0.4682 - accuracy: 0.7913 - val_loss: 0.5201 - val_accuracy: 0.7579\n",
            "Epoch 13/100\n",
            "24/24 [==============================] - 1s 49ms/step - loss: 0.4575 - accuracy: 0.8032 - val_loss: 0.4888 - val_accuracy: 0.7474\n",
            "Epoch 14/100\n",
            "24/24 [==============================] - 1s 54ms/step - loss: 0.4273 - accuracy: 0.8243 - val_loss: 0.4514 - val_accuracy: 0.7842\n",
            "Epoch 15/100\n",
            "24/24 [==============================] - 1s 46ms/step - loss: 0.4210 - accuracy: 0.8190 - val_loss: 0.4328 - val_accuracy: 0.8316\n",
            "Epoch 16/100\n",
            "24/24 [==============================] - 1s 32ms/step - loss: 0.3914 - accuracy: 0.8349 - val_loss: 0.3419 - val_accuracy: 0.8579\n",
            "Epoch 17/100\n",
            "24/24 [==============================] - 1s 32ms/step - loss: 0.3576 - accuracy: 0.8534 - val_loss: 0.3568 - val_accuracy: 0.8368\n",
            "Epoch 18/100\n",
            "24/24 [==============================] - 1s 32ms/step - loss: 0.3889 - accuracy: 0.8230 - val_loss: 0.3203 - val_accuracy: 0.8895\n",
            "Epoch 19/100\n",
            "24/24 [==============================] - 1s 33ms/step - loss: 0.3328 - accuracy: 0.8653 - val_loss: 0.3389 - val_accuracy: 0.8684\n",
            "Epoch 20/100\n",
            "24/24 [==============================] - 1s 32ms/step - loss: 0.3180 - accuracy: 0.8811 - val_loss: 0.3739 - val_accuracy: 0.8368\n",
            "Epoch 21/100\n",
            "24/24 [==============================] - 1s 32ms/step - loss: 0.2802 - accuracy: 0.8851 - val_loss: 0.2562 - val_accuracy: 0.9211\n",
            "Epoch 22/100\n",
            "24/24 [==============================] - 1s 33ms/step - loss: 0.2788 - accuracy: 0.8785 - val_loss: 0.2589 - val_accuracy: 0.9053\n",
            "Epoch 23/100\n",
            "24/24 [==============================] - 1s 33ms/step - loss: 0.2413 - accuracy: 0.9089 - val_loss: 0.2533 - val_accuracy: 0.8895\n",
            "Epoch 24/100\n",
            "24/24 [==============================] - 1s 32ms/step - loss: 0.2477 - accuracy: 0.9036 - val_loss: 0.2435 - val_accuracy: 0.9000\n",
            "Epoch 25/100\n",
            "24/24 [==============================] - 1s 36ms/step - loss: 0.2160 - accuracy: 0.9260 - val_loss: 0.2571 - val_accuracy: 0.9000\n",
            "Epoch 26/100\n",
            "24/24 [==============================] - 1s 32ms/step - loss: 0.2162 - accuracy: 0.9128 - val_loss: 0.2573 - val_accuracy: 0.8947\n",
            "Epoch 27/100\n",
            "24/24 [==============================] - 1s 32ms/step - loss: 0.2157 - accuracy: 0.9115 - val_loss: 0.2369 - val_accuracy: 0.9000\n",
            "Epoch 28/100\n",
            "24/24 [==============================] - 1s 42ms/step - loss: 0.2064 - accuracy: 0.9168 - val_loss: 0.2159 - val_accuracy: 0.9211\n",
            "Epoch 29/100\n",
            "24/24 [==============================] - 1s 52ms/step - loss: 0.2175 - accuracy: 0.9168 - val_loss: 0.2452 - val_accuracy: 0.8947\n",
            "Epoch 30/100\n",
            "24/24 [==============================] - 1s 50ms/step - loss: 0.2012 - accuracy: 0.9247 - val_loss: 0.2092 - val_accuracy: 0.9316\n",
            "Epoch 31/100\n",
            "24/24 [==============================] - 1s 49ms/step - loss: 0.2310 - accuracy: 0.9022 - val_loss: 0.3304 - val_accuracy: 0.8526\n",
            "Epoch 32/100\n",
            "24/24 [==============================] - 1s 51ms/step - loss: 0.2169 - accuracy: 0.9115 - val_loss: 0.2163 - val_accuracy: 0.9158\n",
            "Epoch 33/100\n",
            "24/24 [==============================] - 1s 35ms/step - loss: 0.1948 - accuracy: 0.9221 - val_loss: 0.2283 - val_accuracy: 0.9000\n",
            "Epoch 34/100\n",
            "24/24 [==============================] - 1s 32ms/step - loss: 0.2177 - accuracy: 0.9155 - val_loss: 0.2160 - val_accuracy: 0.9105\n",
            "Epoch 35/100\n",
            "24/24 [==============================] - 1s 32ms/step - loss: 0.1998 - accuracy: 0.9194 - val_loss: 0.2699 - val_accuracy: 0.8895\n",
            "Epoch 36/100\n",
            "24/24 [==============================] - 1s 32ms/step - loss: 0.2261 - accuracy: 0.9168 - val_loss: 0.3130 - val_accuracy: 0.8632\n",
            "Epoch 37/100\n",
            "24/24 [==============================] - 1s 32ms/step - loss: 0.2097 - accuracy: 0.9141 - val_loss: 0.2020 - val_accuracy: 0.9368\n",
            "Epoch 38/100\n",
            "24/24 [==============================] - 1s 31ms/step - loss: 0.1894 - accuracy: 0.9326 - val_loss: 0.2022 - val_accuracy: 0.9053\n",
            "Epoch 39/100\n",
            "24/24 [==============================] - 1s 33ms/step - loss: 0.2060 - accuracy: 0.9247 - val_loss: 0.2415 - val_accuracy: 0.9211\n",
            "Epoch 40/100\n",
            "24/24 [==============================] - 1s 33ms/step - loss: 0.2024 - accuracy: 0.9234 - val_loss: 0.2035 - val_accuracy: 0.9211\n",
            "Epoch 41/100\n",
            "24/24 [==============================] - 1s 32ms/step - loss: 0.1806 - accuracy: 0.9300 - val_loss: 0.1958 - val_accuracy: 0.9316\n",
            "Epoch 42/100\n",
            "24/24 [==============================] - 1s 32ms/step - loss: 0.1906 - accuracy: 0.9221 - val_loss: 0.2602 - val_accuracy: 0.8737\n",
            "Epoch 43/100\n",
            "24/24 [==============================] - 1s 33ms/step - loss: 0.1870 - accuracy: 0.9287 - val_loss: 0.3070 - val_accuracy: 0.8579\n",
            "Epoch 44/100\n",
            "24/24 [==============================] - 1s 33ms/step - loss: 0.1928 - accuracy: 0.9207 - val_loss: 0.2362 - val_accuracy: 0.9053\n",
            "Epoch 45/100\n",
            "24/24 [==============================] - 1s 32ms/step - loss: 0.1784 - accuracy: 0.9326 - val_loss: 0.2231 - val_accuracy: 0.9053\n",
            "Epoch 46/100\n",
            "24/24 [==============================] - 1s 50ms/step - loss: 0.2272 - accuracy: 0.9089 - val_loss: 0.2481 - val_accuracy: 0.8895\n",
            "Epoch 47/100\n",
            "24/24 [==============================] - 1s 52ms/step - loss: 0.2037 - accuracy: 0.9141 - val_loss: 0.2270 - val_accuracy: 0.9053\n",
            "Epoch 48/100\n",
            "24/24 [==============================] - 1s 53ms/step - loss: 0.1599 - accuracy: 0.9392 - val_loss: 0.1777 - val_accuracy: 0.9421\n",
            "Epoch 49/100\n",
            "24/24 [==============================] - 1s 49ms/step - loss: 0.1509 - accuracy: 0.9472 - val_loss: 0.1877 - val_accuracy: 0.9211\n",
            "Epoch 50/100\n",
            "24/24 [==============================] - 1s 43ms/step - loss: 0.1569 - accuracy: 0.9326 - val_loss: 0.2473 - val_accuracy: 0.8947\n",
            "Epoch 51/100\n",
            "24/24 [==============================] - 1s 32ms/step - loss: 0.2285 - accuracy: 0.9009 - val_loss: 0.1632 - val_accuracy: 0.9421\n",
            "Epoch 52/100\n",
            "24/24 [==============================] - 1s 33ms/step - loss: 0.1636 - accuracy: 0.9406 - val_loss: 0.1522 - val_accuracy: 0.9421\n",
            "Epoch 53/100\n",
            "24/24 [==============================] - 1s 33ms/step - loss: 0.1600 - accuracy: 0.9419 - val_loss: 0.1518 - val_accuracy: 0.9474\n",
            "Epoch 54/100\n",
            "24/24 [==============================] - 1s 32ms/step - loss: 0.1658 - accuracy: 0.9406 - val_loss: 0.1504 - val_accuracy: 0.9421\n",
            "Epoch 55/100\n",
            "24/24 [==============================] - 1s 33ms/step - loss: 0.1570 - accuracy: 0.9419 - val_loss: 0.2179 - val_accuracy: 0.9105\n",
            "Epoch 56/100\n",
            "24/24 [==============================] - 1s 32ms/step - loss: 0.1669 - accuracy: 0.9419 - val_loss: 0.1706 - val_accuracy: 0.9474\n",
            "Epoch 57/100\n",
            "24/24 [==============================] - 1s 33ms/step - loss: 0.1573 - accuracy: 0.9392 - val_loss: 0.1933 - val_accuracy: 0.9368\n",
            "Epoch 58/100\n",
            "24/24 [==============================] - 1s 32ms/step - loss: 0.1648 - accuracy: 0.9485 - val_loss: 0.1872 - val_accuracy: 0.9368\n",
            "Epoch 59/100\n",
            "24/24 [==============================] - 1s 32ms/step - loss: 0.1838 - accuracy: 0.9260 - val_loss: 0.1616 - val_accuracy: 0.9368\n",
            "Epoch 60/100\n",
            "24/24 [==============================] - 1s 33ms/step - loss: 0.1464 - accuracy: 0.9485 - val_loss: 0.1848 - val_accuracy: 0.9211\n",
            "Epoch 61/100\n",
            "24/24 [==============================] - 1s 32ms/step - loss: 0.1456 - accuracy: 0.9485 - val_loss: 0.2012 - val_accuracy: 0.9211\n",
            "Epoch 62/100\n",
            "24/24 [==============================] - 1s 32ms/step - loss: 0.1564 - accuracy: 0.9392 - val_loss: 0.1724 - val_accuracy: 0.9421\n",
            "Epoch 63/100\n",
            "24/24 [==============================] - 1s 47ms/step - loss: 0.1824 - accuracy: 0.9313 - val_loss: 0.1709 - val_accuracy: 0.9526\n",
            "Epoch 64/100\n",
            "24/24 [==============================] - 1s 54ms/step - loss: 0.1496 - accuracy: 0.9498 - val_loss: 0.1751 - val_accuracy: 0.9474\n",
            "Epoch 65/100\n",
            "24/24 [==============================] - 1s 54ms/step - loss: 0.1479 - accuracy: 0.9379 - val_loss: 0.1738 - val_accuracy: 0.9316\n",
            "Epoch 66/100\n",
            "24/24 [==============================] - 2s 81ms/step - loss: 0.1424 - accuracy: 0.9445 - val_loss: 0.1458 - val_accuracy: 0.9632\n",
            "Epoch 67/100\n",
            "24/24 [==============================] - 1s 38ms/step - loss: 0.1349 - accuracy: 0.9551 - val_loss: 0.1803 - val_accuracy: 0.9474\n",
            "Epoch 68/100\n",
            "24/24 [==============================] - 1s 32ms/step - loss: 0.1525 - accuracy: 0.9419 - val_loss: 0.1519 - val_accuracy: 0.9368\n",
            "Epoch 69/100\n",
            "24/24 [==============================] - 1s 33ms/step - loss: 0.1451 - accuracy: 0.9419 - val_loss: 0.2388 - val_accuracy: 0.8789\n",
            "Epoch 70/100\n",
            "24/24 [==============================] - 1s 33ms/step - loss: 0.1364 - accuracy: 0.9498 - val_loss: 0.1810 - val_accuracy: 0.9368\n",
            "Epoch 71/100\n",
            "24/24 [==============================] - 1s 33ms/step - loss: 0.1372 - accuracy: 0.9538 - val_loss: 0.1926 - val_accuracy: 0.9211\n",
            "Epoch 72/100\n",
            "24/24 [==============================] - 1s 32ms/step - loss: 0.1391 - accuracy: 0.9458 - val_loss: 0.1606 - val_accuracy: 0.9526\n",
            "Epoch 73/100\n",
            "24/24 [==============================] - 1s 32ms/step - loss: 0.1740 - accuracy: 0.9326 - val_loss: 0.1690 - val_accuracy: 0.9474\n",
            "Epoch 74/100\n",
            "24/24 [==============================] - 1s 33ms/step - loss: 0.1563 - accuracy: 0.9485 - val_loss: 0.2347 - val_accuracy: 0.9053\n",
            "Epoch 75/100\n",
            "24/24 [==============================] - 1s 37ms/step - loss: 0.1576 - accuracy: 0.9339 - val_loss: 0.1594 - val_accuracy: 0.9526\n",
            "Epoch 76/100\n",
            "24/24 [==============================] - 2s 64ms/step - loss: 0.1324 - accuracy: 0.9511 - val_loss: 0.1613 - val_accuracy: 0.9474\n",
            "Epoch 77/100\n",
            "24/24 [==============================] - 1s 33ms/step - loss: 0.1233 - accuracy: 0.9590 - val_loss: 0.1513 - val_accuracy: 0.9421\n",
            "Epoch 78/100\n",
            "24/24 [==============================] - 1s 33ms/step - loss: 0.1230 - accuracy: 0.9643 - val_loss: 0.1387 - val_accuracy: 0.9579\n",
            "Epoch 79/100\n",
            "24/24 [==============================] - 1s 49ms/step - loss: 0.1257 - accuracy: 0.9485 - val_loss: 0.1442 - val_accuracy: 0.9526\n",
            "Epoch 80/100\n",
            "24/24 [==============================] - 1s 53ms/step - loss: 0.1198 - accuracy: 0.9643 - val_loss: 0.1404 - val_accuracy: 0.9579\n",
            "Epoch 81/100\n",
            "24/24 [==============================] - 1s 53ms/step - loss: 0.1202 - accuracy: 0.9538 - val_loss: 0.1308 - val_accuracy: 0.9632\n",
            "Epoch 82/100\n",
            "24/24 [==============================] - 1s 54ms/step - loss: 0.1331 - accuracy: 0.9590 - val_loss: 0.1786 - val_accuracy: 0.9368\n",
            "Epoch 83/100\n",
            "24/24 [==============================] - 1s 44ms/step - loss: 0.1443 - accuracy: 0.9498 - val_loss: 0.1408 - val_accuracy: 0.9632\n",
            "Epoch 84/100\n",
            "24/24 [==============================] - 1s 36ms/step - loss: 0.1205 - accuracy: 0.9538 - val_loss: 0.1552 - val_accuracy: 0.9316\n",
            "Epoch 85/100\n",
            "24/24 [==============================] - 1s 33ms/step - loss: 0.1276 - accuracy: 0.9551 - val_loss: 0.1586 - val_accuracy: 0.9421\n",
            "Epoch 86/100\n",
            "24/24 [==============================] - 1s 34ms/step - loss: 0.1190 - accuracy: 0.9657 - val_loss: 0.1475 - val_accuracy: 0.9421\n",
            "Epoch 87/100\n",
            "24/24 [==============================] - 1s 33ms/step - loss: 0.1157 - accuracy: 0.9564 - val_loss: 0.1581 - val_accuracy: 0.9316\n",
            "Epoch 88/100\n",
            "24/24 [==============================] - 1s 32ms/step - loss: 0.1219 - accuracy: 0.9617 - val_loss: 0.1357 - val_accuracy: 0.9632\n",
            "Epoch 89/100\n",
            "24/24 [==============================] - 1s 32ms/step - loss: 0.1898 - accuracy: 0.9234 - val_loss: 0.2027 - val_accuracy: 0.9158\n",
            "Epoch 90/100\n",
            "24/24 [==============================] - 1s 34ms/step - loss: 0.1367 - accuracy: 0.9472 - val_loss: 0.1387 - val_accuracy: 0.9632\n",
            "Epoch 91/100\n",
            "24/24 [==============================] - 1s 33ms/step - loss: 0.1625 - accuracy: 0.9432 - val_loss: 0.1336 - val_accuracy: 0.9632\n",
            "Epoch 92/100\n",
            "24/24 [==============================] - 1s 56ms/step - loss: 0.1114 - accuracy: 0.9683 - val_loss: 0.1315 - val_accuracy: 0.9579\n",
            "Epoch 93/100\n",
            "24/24 [==============================] - 1s 32ms/step - loss: 0.1107 - accuracy: 0.9670 - val_loss: 0.1330 - val_accuracy: 0.9526\n",
            "Epoch 94/100\n",
            "24/24 [==============================] - 1s 33ms/step - loss: 0.1189 - accuracy: 0.9657 - val_loss: 0.1586 - val_accuracy: 0.9421\n",
            "Epoch 95/100\n",
            "24/24 [==============================] - 1s 49ms/step - loss: 0.1500 - accuracy: 0.9485 - val_loss: 0.2329 - val_accuracy: 0.9000\n",
            "Epoch 96/100\n",
            "24/24 [==============================] - 1s 53ms/step - loss: 0.1973 - accuracy: 0.9194 - val_loss: 0.1662 - val_accuracy: 0.9263\n",
            "Epoch 97/100\n",
            "24/24 [==============================] - 1s 54ms/step - loss: 0.1263 - accuracy: 0.9538 - val_loss: 0.1250 - val_accuracy: 0.9579\n",
            "Epoch 98/100\n",
            "24/24 [==============================] - 1s 51ms/step - loss: 0.1125 - accuracy: 0.9617 - val_loss: 0.1163 - val_accuracy: 0.9684\n",
            "Epoch 99/100\n",
            "24/24 [==============================] - 1s 44ms/step - loss: 0.1176 - accuracy: 0.9590 - val_loss: 0.1290 - val_accuracy: 0.9474\n",
            "Epoch 100/100\n",
            "24/24 [==============================] - 1s 33ms/step - loss: 0.1078 - accuracy: 0.9657 - val_loss: 0.1291 - val_accuracy: 0.9632\n"
          ]
        }
      ]
    },
    {
      "cell_type": "markdown",
      "source": [
        "# Plotting the history"
      ],
      "metadata": {
        "id": "MD05a4_a3cL1"
      }
    },
    {
      "cell_type": "code",
      "source": [
        "def plot_history(history):\n",
        "    \"\"\"Plots accuracy/loss for training/validation set as a function of the epochs\n",
        "\n",
        "        :param history: Training history of model\n",
        "        :return:\n",
        "    \"\"\"\n",
        "\n",
        "    fig, axs = plt.subplots(2)\n",
        "\n",
        "    # create accuracy sublpot\n",
        "    axs[0].plot(history.history[\"accuracy\"], label=\"train accuracy\")\n",
        "    axs[0].plot(history.history[\"val_accuracy\"], label=\"test accuracy\")\n",
        "    axs[0].set_ylabel(\"Accuracy\")\n",
        "    axs[0].legend(loc=\"lower right\")\n",
        "    axs[0].set_title(\"Accuracy eval\")\n",
        "\n",
        "    # create error sublpot\n",
        "    axs[1].plot(history.history[\"loss\"], label=\"train error\")\n",
        "    axs[1].plot(history.history[\"val_loss\"], label=\"test error\")\n",
        "    axs[1].set_ylabel(\"Error\")\n",
        "    axs[1].set_xlabel(\"Epoch\")\n",
        "    axs[1].legend(loc=\"upper right\")\n",
        "    axs[1].set_title(\"Error eval\")\n",
        "\n",
        "    plt.show()"
      ],
      "metadata": {
        "id": "Pg61WUuq3fye"
      },
      "execution_count": null,
      "outputs": []
    },
    {
      "cell_type": "code",
      "source": [
        "plot_history(history)"
      ],
      "metadata": {
        "colab": {
          "base_uri": "https://localhost:8080/",
          "height": 472
        },
        "id": "09CyuYyk3l7t",
        "outputId": "9851a8f0-4e8e-45fe-9d30-918bfb4ce3db"
      },
      "execution_count": null,
      "outputs": [
        {
          "output_type": "display_data",
          "data": {
            "text/plain": [
              "<Figure size 640x480 with 2 Axes>"
            ],
            "image/png": "[encoded data removed]"
          },
          "metadata": {}
        }
      ]
    },
    {
      "cell_type": "code",
      "source": [
        "# Evaluate on train set\n",
        "train_loss, train_accuracy = model.evaluate(X_train, Y_train, verbose=0)\n",
        "print(f\"Train Accuracy: {train_accuracy * 100:.2f}%\")\n",
        "\n",
        "# Evaluate on test set\n",
        "validation_loss, validation_accuracy = model.evaluate(X_validation, Y_validation, verbose=0)\n",
        "print(f\"Validation Accuracy: {validation_accuracy * 100:.2f}%\")"
      ],
      "metadata": {
        "colab": {
          "base_uri": "https://localhost:8080/"
        },
        "id": "1pHZTsXF4nDp",
        "outputId": "e40c46e2-016a-4b3d-b1e5-47d7826666dc"
      },
      "execution_count": null,
      "outputs": [
        {
          "output_type": "stream",
          "name": "stdout",
          "text": [
            "Train Accuracy: 96.96%\n",
            "Validation Accuracy: 96.32%\n"
          ]
        }
      ]
    },
    {
      "cell_type": "code",
      "source": [
        "test_loss, test_acc = model.evaluate(X_test, Y_test, verbose=1)\n",
        "print('\\nTest accuracy:', test_acc)"
      ],
      "metadata": {
        "colab": {
          "base_uri": "https://localhost:8080/"
        },
        "id": "84qri1Nf4rMV",
        "outputId": "12ad44a1-ee40-4d56-dd0b-a7f418fded6f"
      },
      "execution_count": null,
      "outputs": [
        {
          "output_type": "stream",
          "name": "stdout",
          "text": [
            "2/2 [==============================] - 0s 13ms/step - loss: 0.8261 - accuracy: 0.6765\n",
            "\n",
            "Test accuracy: 0.6764705777168274\n"
          ]
        }
      ]
    },
    {
      "cell_type": "code",
      "source": [
        "Y_predict = model.predict(X_test)"
      ],
      "metadata": {
        "colab": {
          "base_uri": "https://localhost:8080/"
        },
        "id": "ZGx2IIIHIxOh",
        "outputId": "6063f4e1-19ad-4b74-db39-f2a30b9b1bf3"
      },
      "execution_count": null,
      "outputs": [
        {
          "output_type": "stream",
          "name": "stdout",
          "text": [
            "2/2 [==============================] - 1s 9ms/step\n"
          ]
        }
      ]
    },
    {
      "cell_type": "code",
      "source": [
        "Y_predict.shape"
      ],
      "metadata": {
        "colab": {
          "base_uri": "https://localhost:8080/"
        },
        "id": "RbZ2xMrNPE2_",
        "outputId": "8f3a6167-f3be-476d-b8b4-99037a8ef763"
      },
      "execution_count": null,
      "outputs": [
        {
          "output_type": "execute_result",
          "data": {
            "text/plain": [
              "(34, 1)"
            ]
          },
          "metadata": {},
          "execution_count": 39
        }
      ]
    },
    {
      "cell_type": "code",
      "source": [
        "threshold = 0.5  # Set your threshold here (can be adjusted based on your requirements)\n",
        "\n",
        "# Convert probabilities to class labels based on the threshold\n",
        "predicted_labels = (Y_predict > threshold).astype(int)"
      ],
      "metadata": {
        "id": "O_Dg53BXPqmp"
      },
      "execution_count": null,
      "outputs": []
    },
    {
      "cell_type": "code",
      "source": [
        "# Calculate confusion matrix\n",
        "cm = confusion_matrix(Y_test, predicted_labels)\n",
        "\n",
        "# Create a figure and plot the confusion matrix\n",
        "plt.figure(figsize=(8, 6))\n",
        "plt.imshow(cm, interpolation='nearest', cmap=plt.cm.Blues)\n",
        "plt.title('Confusion Matrix')\n",
        "plt.colorbar()\n",
        "\n",
        "classes = ['Class 0', 'Class 1']  # Replace with your class labels if needed\n",
        "tick_marks = np.arange(len(classes))\n",
        "plt.xticks(tick_marks, classes)\n",
        "plt.yticks(tick_marks, classes)\n",
        "\n",
        "# Add labels to each cell\n",
        "thresh = cm.max() / 2.\n",
        "for i, j in np.ndindex(cm.shape):\n",
        "    plt.text(j, i, format(cm[i, j], 'd'),\n",
        "             horizontalalignment=\"center\",\n",
        "             color=\"white\" if cm[i, j] > thresh else \"black\")\n",
        "\n",
        "plt.ylabel('True label')\n",
        "plt.xlabel('Predicted label')\n",
        "plt.tight_layout()\n",
        "plt.show()"
      ],
      "metadata": {
        "colab": {
          "base_uri": "https://localhost:8080/",
          "height": 607
        },
        "id": "8AZ1tagAfPf5",
        "outputId": "cb3a9322-1743-4406-93fe-19f6016f3938"
      },
      "execution_count": null,
      "outputs": [
        {
          "output_type": "display_data",
          "data": {
            "text/plain": [
              "<Figure size 800x600 with 2 Axes>"
            ],
            "image/png": "[encoded data removed]"
          },
          "metadata": {}
        }
      ]
    },
    {
      "cell_type": "markdown",
      "source": [
        "# Test 2"
      ],
      "metadata": {
        "id": "OUdkbdXgaOac"
      }
    },
    {
      "cell_type": "code",
      "source": [
        "Testset_path2 = '/content/drive/MyDrive/Test2.json'"
      ],
      "metadata": {
        "id": "0zGe9EYSaFqh"
      },
      "execution_count": null,
      "outputs": []
    },
    {
      "cell_type": "code",
      "source": [
        "X_test2, Y_test2 = load_data(Testset_path2)"
      ],
      "metadata": {
        "id": "drQAcXodaUgQ"
      },
      "execution_count": null,
      "outputs": []
    },
    {
      "cell_type": "code",
      "source": [
        "X_test2.shape"
      ],
      "metadata": {
        "colab": {
          "base_uri": "https://localhost:8080/"
        },
        "id": "kabw08saaX8Z",
        "outputId": "1463083a-0f3f-4f6d-f804-c524ae5589e4"
      },
      "execution_count": null,
      "outputs": [
        {
          "output_type": "execute_result",
          "data": {
            "text/plain": [
              "(26, 30, 45)"
            ]
          },
          "metadata": {},
          "execution_count": 48
        }
      ]
    },
    {
      "cell_type": "code",
      "source": [
        "X_test2, _, Y_test2, _ = train_test_split(X_test2, Y_test2, test_size=0.05, random_state=7,shuffle=True)"
      ],
      "metadata": {
        "id": "eojsJEUBad1d"
      },
      "execution_count": null,
      "outputs": []
    },
    {
      "cell_type": "code",
      "source": [
        "X_test2.shape"
      ],
      "metadata": {
        "colab": {
          "base_uri": "https://localhost:8080/"
        },
        "id": "929JksRHajRB",
        "outputId": "e58cf423-76d0-4ee8-c772-83fc89523062"
      },
      "execution_count": null,
      "outputs": [
        {
          "output_type": "execute_result",
          "data": {
            "text/plain": [
              "(24, 30, 45)"
            ]
          },
          "metadata": {},
          "execution_count": 50
        }
      ]
    },
    {
      "cell_type": "code",
      "source": [
        "test_loss2, test_acc2 = model.evaluate(X_test2, Y_test2, verbose=1)\n",
        "print('\\nTest accuracy:', test_acc)"
      ],
      "metadata": {
        "colab": {
          "base_uri": "https://localhost:8080/"
        },
        "id": "z1FZHXVnapCK",
        "outputId": "44874dee-2bb6-4f4c-e266-ed395bd573e3"
      },
      "execution_count": null,
      "outputs": [
        {
          "output_type": "stream",
          "name": "stdout",
          "text": [
            "1/1 [==============================] - 0s 56ms/step - loss: 0.7532 - accuracy: 0.5833\n",
            "\n",
            "Test accuracy: 0.6764705777168274\n"
          ]
        }
      ]
    },
    {
      "cell_type": "code",
      "source": [
        "Y_predict2 = model.predict(X_test2)"
      ],
      "metadata": {
        "colab": {
          "base_uri": "https://localhost:8080/"
        },
        "id": "Ttgu6a-Wawl5",
        "outputId": "536a0153-68a8-4f43-87db-ae4ef6b492e1"
      },
      "execution_count": null,
      "outputs": [
        {
          "output_type": "stream",
          "name": "stdout",
          "text": [
            "1/1 [==============================] - 0s 44ms/step\n"
          ]
        }
      ]
    },
    {
      "cell_type": "code",
      "source": [
        "threshold = 0.5  # Set your threshold here (can be adjusted based on your requirements)\n",
        "\n",
        "# Convert probabilities to class labels based on the threshold\n",
        "predicted_labels2 = (Y_predict2 > threshold).astype(int)"
      ],
      "metadata": {
        "id": "TRKZAQe9a2iP"
      },
      "execution_count": null,
      "outputs": []
    },
    {
      "cell_type": "code",
      "source": [
        "# Calculate confusion matrix\n",
        "cm = confusion_matrix(Y_test2, predicted_labels2)\n",
        "\n",
        "# Create a figure and plot the confusion matrix\n",
        "plt.figure(figsize=(8, 6))\n",
        "plt.imshow(cm, interpolation='nearest', cmap=plt.cm.Blues)\n",
        "plt.title('Confusion Matrix')\n",
        "plt.colorbar()\n",
        "\n",
        "classes = ['Class 0', 'Class 1']  # Replace with your class labels if needed\n",
        "tick_marks = np.arange(len(classes))\n",
        "plt.xticks(tick_marks, classes)\n",
        "plt.yticks(tick_marks, classes)\n",
        "\n",
        "# Add labels to each cell\n",
        "thresh = cm.max() / 2.\n",
        "for i, j in np.ndindex(cm.shape):\n",
        "    plt.text(j, i, format(cm[i, j], 'd'),\n",
        "             horizontalalignment=\"center\",\n",
        "             color=\"white\" if cm[i, j] > thresh else \"black\")\n",
        "\n",
        "plt.ylabel('True label')\n",
        "plt.xlabel('Predicted label')\n",
        "plt.tight_layout()\n",
        "plt.show()"
      ],
      "metadata": {
        "colab": {
          "base_uri": "https://localhost:8080/",
          "height": 607
        },
        "id": "cLeMfJ8Ga50s",
        "outputId": "cdd91bcf-78e6-4d7a-9226-baf83d780e84"
      },
      "execution_count": null,
      "outputs": [
        {
          "output_type": "display_data",
          "data": {
            "text/plain": [
              "<Figure size 800x600 with 2 Axes>"
            ],
            "image/png": "[encoded data removed]"
          },
          "metadata": {}
        }
      ]
    }
  ]
}