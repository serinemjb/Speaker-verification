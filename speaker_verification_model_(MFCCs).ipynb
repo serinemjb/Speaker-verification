{
  "nbformat": 4,
  "nbformat_minor": 0,
  "metadata": {
    "colab": {
      "provenance": []
    },
    "kernelspec": {
      "name": "python3",
      "display_name": "Python 3"
    },
    "language_info": {
      "name": "python"
    }
  },
  "cells": [
    {
      "cell_type": "markdown",
      "source": [
        "# Importing libraries and guetting access to drive"
      ],
      "metadata": {
        "id": "qwRzKTt5c3nc"
      }
    },
    {
      "cell_type": "code",
      "execution_count": null,
      "metadata": {
        "id": "NhdNrtlwRTF2"
      },
      "outputs": [],
      "source": [
        "import json\n",
        "import numpy as np\n",
        "from sklearn.model_selection import train_test_split\n",
        "import tensorflow.keras as keras\n",
        "import matplotlib.pyplot as plt\n",
        "from sklearn.preprocessing import normalize, MinMaxScaler\n",
        "from sklearn.metrics import confusion_matrix\n",
        "import random\n",
        "from tensorflow.keras.callbacks import EarlyStopping"
      ]
    },
    {
      "cell_type": "code",
      "source": [
        "from google.colab import drive\n",
        "drive.mount('/content/drive')"
      ],
      "metadata": {
        "colab": {
          "base_uri": "https://localhost:8080/"
        },
        "id": "46AHgaAabXEX",
        "outputId": "9a3a7cc7-dda3-4583-8a35-190fda2cb1d9"
      },
      "execution_count": null,
      "outputs": [
        {
          "output_type": "stream",
          "name": "stdout",
          "text": [
            "Mounted at /content/drive\n"
          ]
        }
      ]
    },
    {
      "cell_type": "markdown",
      "source": [
        "# Loading dataset"
      ],
      "metadata": {
        "id": "L5JOj26gc82u"
      }
    },
    {
      "cell_type": "code",
      "source": [
        "def load_data(data_path):\n",
        "\n",
        "  with open(data_path, 'r') as fp:\n",
        "    data = json.load(fp)\n",
        "  X = np.array(data[\"features\"])\n",
        "  Y = np.array(data[\"labels\"])\n",
        "\n",
        "  return X, Y"
      ],
      "metadata": {
        "id": "_ecLuQlubsFn"
      },
      "execution_count": null,
      "outputs": []
    },
    {
      "cell_type": "code",
      "source": [
        "data_path = '/content/drive/MyDrive/Dataset2.json'"
      ],
      "metadata": {
        "id": "LCau97K1yaou"
      },
      "execution_count": null,
      "outputs": []
    },
    {
      "cell_type": "code",
      "source": [
        "X, Y = load_data(data_path)"
      ],
      "metadata": {
        "id": "4grpbBPbyThw"
      },
      "execution_count": null,
      "outputs": []
    },
    {
      "cell_type": "code",
      "source": [
        "X.shape"
      ],
      "metadata": {
        "colab": {
          "base_uri": "https://localhost:8080/"
        },
        "id": "mu44NONzyunv",
        "outputId": "1dc4bd79-420c-47f0-dbe8-8844fe68f018"
      },
      "execution_count": null,
      "outputs": [
        {
          "output_type": "execute_result",
          "data": {
            "text/plain": [
              "(947, 30, 39)"
            ]
          },
          "metadata": {},
          "execution_count": 6
        }
      ]
    },
    {
      "cell_type": "code",
      "source": [
        "Testset_path = '/content/drive/MyDrive/Test.json'"
      ],
      "metadata": {
        "id": "UpCWy1D4EfLF"
      },
      "execution_count": null,
      "outputs": []
    },
    {
      "cell_type": "code",
      "source": [
        "X_test, Y_test = load_data(Testset_path)"
      ],
      "metadata": {
        "id": "GSK_09LYEon9"
      },
      "execution_count": null,
      "outputs": []
    },
    {
      "cell_type": "code",
      "source": [
        "X_test.shape"
      ],
      "metadata": {
        "colab": {
          "base_uri": "https://localhost:8080/"
        },
        "id": "1J9eZy2jEwEE",
        "outputId": "b21e9f73-4fd4-411d-bf8f-002586bc1e02"
      },
      "execution_count": null,
      "outputs": [
        {
          "output_type": "execute_result",
          "data": {
            "text/plain": [
              "(36, 30, 39)"
            ]
          },
          "metadata": {},
          "execution_count": 34
        }
      ]
    },
    {
      "cell_type": "markdown",
      "source": [
        "# Normalizing the data"
      ],
      "metadata": {
        "id": "HVoAvW25yc3q"
      }
    },
    {
      "cell_type": "code",
      "source": [
        "X_test, _, Y_test, _ = train_test_split(X_test, Y_test, test_size=0.05, random_state=7,shuffle=True)"
      ],
      "metadata": {
        "id": "xJTZ7AshGAdz"
      },
      "execution_count": null,
      "outputs": []
    },
    {
      "cell_type": "code",
      "source": [
        "X_test.shape"
      ],
      "metadata": {
        "colab": {
          "base_uri": "https://localhost:8080/"
        },
        "id": "9FbwhbuRQaB8",
        "outputId": "7630b60e-1bda-4a1d-e1df-88d18d9b174c"
      },
      "execution_count": null,
      "outputs": [
        {
          "output_type": "execute_result",
          "data": {
            "text/plain": [
              "(34, 30, 45)"
            ]
          },
          "metadata": {},
          "execution_count": 11
        }
      ]
    },
    {
      "cell_type": "markdown",
      "source": [
        "# Creating train, validation and test sets"
      ],
      "metadata": {
        "id": "l3d6KRAedJS9"
      }
    },
    {
      "cell_type": "code",
      "source": [
        "X_train, X_validation, Y_train, Y_validation = train_test_split(X, Y, test_size=0.2, random_state=7, shuffle=True)"
      ],
      "metadata": {
        "id": "ClpaiJF6dOMv"
      },
      "execution_count": null,
      "outputs": []
    },
    {
      "cell_type": "code",
      "source": [
        "input_shape = (X_train.shape[1], X_train.shape[2])"
      ],
      "metadata": {
        "id": "TUcBOFqloL9K"
      },
      "execution_count": null,
      "outputs": []
    },
    {
      "cell_type": "code",
      "source": [
        "X_train.shape"
      ],
      "metadata": {
        "colab": {
          "base_uri": "https://localhost:8080/"
        },
        "id": "uZQzODDkM1jW",
        "outputId": "e55e539c-4b11-414b-8352-3e6392f4a4e7"
      },
      "execution_count": null,
      "outputs": [
        {
          "output_type": "execute_result",
          "data": {
            "text/plain": [
              "(757, 30, 39)"
            ]
          },
          "metadata": {},
          "execution_count": 14
        }
      ]
    },
    {
      "cell_type": "markdown",
      "source": [
        "# Building the model"
      ],
      "metadata": {
        "id": "M9PUHEcOocjI"
      }
    },
    {
      "cell_type": "code",
      "source": [
        "def build_model(input_shape):\n",
        "  model = keras.Sequential()\n",
        "\n",
        "  model.add(keras.layers.LSTM(64, input_shape=input_shape, return_sequences=True))\n",
        "  model.add(keras.layers.LSTM(64))\n",
        "\n",
        "  model.add(keras.layers.Dense(256, activation='relu'))\n",
        "  model.add(keras.layers.Dropout(0.3))\n",
        "\n",
        "  model.add(keras.layers.Dense(1, activation='sigmoid'))\n",
        "\n",
        "  return model\n"
      ],
      "metadata": {
        "id": "Qko1EF8Boel7"
      },
      "execution_count": null,
      "outputs": []
    },
    {
      "cell_type": "code",
      "source": [
        "model = build_model(input_shape)\n",
        "optimizer = keras.optimizers.Adam(learning_rate=0.0001)\n",
        "model.compile(optimizer=optimizer,\n",
        "              loss='binary_crossentropy',\n",
        "              metrics=['accuracy'])\n",
        "# Define early stopping criteria\n",
        "early_stopping = EarlyStopping(monitor='val_loss', patience=3, restore_best_weights=True)\n",
        "\n",
        "model.summary()\n",
        "\n",
        "history = model.fit(X_train, Y_train, validation_data=(X_validation, Y_validation), batch_size=32, epochs=100, callbacks=[early_stopping])\n",
        "\n"
      ],
      "metadata": {
        "colab": {
          "base_uri": "https://localhost:8080/"
        },
        "id": "TbMMHHWTz37T",
        "outputId": "46d92f9c-300e-477a-c4e2-8b3c60948c6b"
      },
      "execution_count": null,
      "outputs": [
        {
          "output_type": "stream",
          "name": "stdout",
          "text": [
            "Model: \"sequential_1\"\n",
            "_________________________________________________________________\n",
            " Layer (type)                Output Shape              Param #   \n",
            "=================================================================\n",
            " lstm_2 (LSTM)               (None, 30, 64)            26624     \n",
            "                                                                 \n",
            " lstm_3 (LSTM)               (None, 64)                33024     \n",
            "                                                                 \n",
            " dense_2 (Dense)             (None, 256)               16640     \n",
            "                                                                 \n",
            " dropout_1 (Dropout)         (None, 256)               0         \n",
            "                                                                 \n",
            " dense_3 (Dense)             (None, 1)                 257       \n",
            "                                                                 \n",
            "=================================================================\n",
            "Total params: 76545 (299.00 KB)\n",
            "Trainable params: 76545 (299.00 KB)\n",
            "Non-trainable params: 0 (0.00 Byte)\n",
            "_________________________________________________________________\n",
            "Epoch 1/100\n",
            "24/24 [==============================] - 68s 126ms/step - loss: 0.6751 - accuracy: 0.5561 - val_loss: 0.6652 - val_accuracy: 0.6316\n",
            "Epoch 2/100\n",
            "24/24 [==============================] - 1s 36ms/step - loss: 0.6324 - accuracy: 0.6922 - val_loss: 0.6197 - val_accuracy: 0.7211\n",
            "Epoch 3/100\n",
            "24/24 [==============================] - 1s 39ms/step - loss: 0.5699 - accuracy: 0.7609 - val_loss: 0.5449 - val_accuracy: 0.7737\n",
            "Epoch 4/100\n",
            "24/24 [==============================] - 1s 39ms/step - loss: 0.4700 - accuracy: 0.8203 - val_loss: 0.4340 - val_accuracy: 0.8474\n",
            "Epoch 5/100\n",
            "24/24 [==============================] - 1s 44ms/step - loss: 0.3528 - accuracy: 0.8771 - val_loss: 0.3296 - val_accuracy: 0.8789\n",
            "Epoch 6/100\n",
            "24/24 [==============================] - 1s 40ms/step - loss: 0.2542 - accuracy: 0.9155 - val_loss: 0.2571 - val_accuracy: 0.9158\n",
            "Epoch 7/100\n",
            "24/24 [==============================] - 1s 43ms/step - loss: 0.1914 - accuracy: 0.9406 - val_loss: 0.2078 - val_accuracy: 0.9263\n",
            "Epoch 8/100\n",
            "24/24 [==============================] - 1s 36ms/step - loss: 0.1437 - accuracy: 0.9564 - val_loss: 0.1764 - val_accuracy: 0.9474\n",
            "Epoch 9/100\n",
            "24/24 [==============================] - 1s 39ms/step - loss: 0.1135 - accuracy: 0.9670 - val_loss: 0.1613 - val_accuracy: 0.9526\n",
            "Epoch 10/100\n",
            "24/24 [==============================] - 1s 41ms/step - loss: 0.0939 - accuracy: 0.9736 - val_loss: 0.1342 - val_accuracy: 0.9632\n",
            "Epoch 11/100\n",
            "24/24 [==============================] - 1s 36ms/step - loss: 0.0800 - accuracy: 0.9789 - val_loss: 0.1179 - val_accuracy: 0.9632\n",
            "Epoch 12/100\n",
            "24/24 [==============================] - 1s 49ms/step - loss: 0.0655 - accuracy: 0.9828 - val_loss: 0.1051 - val_accuracy: 0.9632\n",
            "Epoch 13/100\n",
            "24/24 [==============================] - 1s 59ms/step - loss: 0.0535 - accuracy: 0.9855 - val_loss: 0.0890 - val_accuracy: 0.9632\n",
            "Epoch 14/100\n",
            "24/24 [==============================] - 1s 62ms/step - loss: 0.0473 - accuracy: 0.9894 - val_loss: 0.0758 - val_accuracy: 0.9684\n",
            "Epoch 15/100\n",
            "24/24 [==============================] - 2s 66ms/step - loss: 0.0370 - accuracy: 0.9894 - val_loss: 0.0633 - val_accuracy: 0.9737\n",
            "Epoch 16/100\n",
            "24/24 [==============================] - 1s 57ms/step - loss: 0.0335 - accuracy: 0.9908 - val_loss: 0.0523 - val_accuracy: 0.9737\n",
            "Epoch 17/100\n",
            "24/24 [==============================] - 1s 39ms/step - loss: 0.0287 - accuracy: 0.9934 - val_loss: 0.0473 - val_accuracy: 0.9842\n",
            "Epoch 18/100\n",
            "24/24 [==============================] - 1s 37ms/step - loss: 0.0243 - accuracy: 0.9934 - val_loss: 0.0627 - val_accuracy: 0.9842\n",
            "Epoch 19/100\n",
            "24/24 [==============================] - 1s 40ms/step - loss: 0.0250 - accuracy: 0.9947 - val_loss: 0.0523 - val_accuracy: 0.9842\n",
            "Epoch 20/100\n",
            "24/24 [==============================] - 1s 40ms/step - loss: 0.0175 - accuracy: 0.9960 - val_loss: 0.0366 - val_accuracy: 0.9842\n",
            "Epoch 21/100\n",
            "24/24 [==============================] - 1s 41ms/step - loss: 0.0183 - accuracy: 0.9947 - val_loss: 0.0416 - val_accuracy: 0.9895\n",
            "Epoch 22/100\n",
            "24/24 [==============================] - 1s 40ms/step - loss: 0.0122 - accuracy: 0.9987 - val_loss: 0.0437 - val_accuracy: 0.9895\n",
            "Epoch 23/100\n",
            "24/24 [==============================] - 1s 64ms/step - loss: 0.0095 - accuracy: 0.9987 - val_loss: 0.0375 - val_accuracy: 0.9895\n"
          ]
        }
      ]
    },
    {
      "cell_type": "markdown",
      "source": [
        "# Plotting the history"
      ],
      "metadata": {
        "id": "MD05a4_a3cL1"
      }
    },
    {
      "cell_type": "code",
      "source": [
        "def plot_history(history):\n",
        "    \"\"\"Plots accuracy/loss for training/validation set as a function of the epochs\n",
        "\n",
        "        :param history: Training history of model\n",
        "        :return:\n",
        "    \"\"\"\n",
        "\n",
        "    fig, axs = plt.subplots(2)\n",
        "\n",
        "    # create accuracy sublpot\n",
        "    axs[0].plot(history.history[\"accuracy\"], label=\"train accuracy\")\n",
        "    axs[0].plot(history.history[\"val_accuracy\"], label=\"test accuracy\")\n",
        "    axs[0].set_ylabel(\"Accuracy\")\n",
        "    axs[0].legend(loc=\"lower right\")\n",
        "    axs[0].set_title(\"Accuracy eval\")\n",
        "\n",
        "    # create error sublpot\n",
        "    axs[1].plot(history.history[\"loss\"], label=\"train error\")\n",
        "    axs[1].plot(history.history[\"val_loss\"], label=\"test error\")\n",
        "    axs[1].set_ylabel(\"Error\")\n",
        "    axs[1].set_xlabel(\"Epoch\")\n",
        "    axs[1].legend(loc=\"upper right\")\n",
        "    axs[1].set_title(\"Error eval\")\n",
        "\n",
        "    plt.show()"
      ],
      "metadata": {
        "id": "Pg61WUuq3fye"
      },
      "execution_count": null,
      "outputs": []
    },
    {
      "cell_type": "code",
      "source": [
        "plot_history(history)"
      ],
      "metadata": {
        "colab": {
          "base_uri": "https://localhost:8080/",
          "height": 472
        },
        "id": "09CyuYyk3l7t",
        "outputId": "da7cd986-91b7-4b9d-8fc7-6cfc9a433f87"
      },
      "execution_count": null,
      "outputs": [
        {
          "output_type": "display_data",
          "data": {
            "text/plain": [
              "<Figure size 640x480 with 2 Axes>"
            ],
            "image/png": "[encoded data removed]"
          },
          "metadata": {}
        }
      ]
    },
    {
      "cell_type": "code",
      "source": [
        "# Evaluate on train set\n",
        "train_loss, train_accuracy = model.evaluate(X_train, Y_train, verbose=0)\n",
        "print(f\"Train Accuracy: {train_accuracy * 100:.2f}%\")\n",
        "\n",
        "# Evaluate on test set\n",
        "validation_loss, validation_accuracy = model.evaluate(X_validation, Y_validation, verbose=0)\n",
        "print(f\"Validation Accuracy: {validation_accuracy * 100:.2f}%\")"
      ],
      "metadata": {
        "colab": {
          "base_uri": "https://localhost:8080/"
        },
        "id": "1pHZTsXF4nDp",
        "outputId": "b59f0a22-5179-4c75-8484-1d5cf2f23232"
      },
      "execution_count": null,
      "outputs": [
        {
          "output_type": "stream",
          "name": "stdout",
          "text": [
            "Train Accuracy: 99.60%\n",
            "Validation Accuracy: 98.42%\n"
          ]
        }
      ]
    },
    {
      "cell_type": "code",
      "source": [
        "test_loss, test_acc = model.evaluate(X_test, Y_test, verbose=1)\n",
        "print('\\nTest accuracy:', test_acc)"
      ],
      "metadata": {
        "colab": {
          "base_uri": "https://localhost:8080/"
        },
        "id": "84qri1Nf4rMV",
        "outputId": "1e561258-32ba-4976-86b7-80e7ddfb6a6b"
      },
      "execution_count": null,
      "outputs": [
        {
          "output_type": "stream",
          "name": "stdout",
          "text": [
            "2/2 [==============================] - 0s 15ms/step - loss: 1.6712 - accuracy: 0.5833\n",
            "\n",
            "Test accuracy: 0.5833333134651184\n"
          ]
        }
      ]
    },
    {
      "cell_type": "code",
      "source": [
        "Y_predict = model.predict(X_test)"
      ],
      "metadata": {
        "colab": {
          "base_uri": "https://localhost:8080/"
        },
        "id": "ZGx2IIIHIxOh",
        "outputId": "6e81d3b8-438c-4584-e029-0237231b6b03"
      },
      "execution_count": null,
      "outputs": [
        {
          "output_type": "stream",
          "name": "stdout",
          "text": [
            "2/2 [==============================] - 1s 13ms/step\n"
          ]
        }
      ]
    },
    {
      "cell_type": "code",
      "source": [
        "threshold = 0.5  # Set your threshold here (can be adjusted based on your requirements)\n",
        "\n",
        "# Convert probabilities to class labels based on the threshold\n",
        "predicted_labels = (Y_predict > threshold).astype(int)"
      ],
      "metadata": {
        "id": "O_Dg53BXPqmp"
      },
      "execution_count": null,
      "outputs": []
    },
    {
      "cell_type": "code",
      "source": [
        "# Calculate confusion matrix\n",
        "cm = confusion_matrix(Y_test, predicted_labels)\n",
        "\n",
        "# Create a figure and plot the confusion matrix\n",
        "plt.figure(figsize=(8, 6))\n",
        "plt.imshow(cm, interpolation='nearest', cmap=plt.cm.Blues)\n",
        "plt.title('Confusion Matrix')\n",
        "plt.colorbar()\n",
        "\n",
        "classes = ['Class 0', 'Class 1']  # Replace with your class labels if needed\n",
        "tick_marks = np.arange(len(classes))\n",
        "plt.xticks(tick_marks, classes)\n",
        "plt.yticks(tick_marks, classes)\n",
        "\n",
        "# Add labels to each cell\n",
        "thresh = cm.max() / 2.\n",
        "for i, j in np.ndindex(cm.shape):\n",
        "    plt.text(j, i, format(cm[i, j], 'd'),\n",
        "             horizontalalignment=\"center\",\n",
        "             color=\"white\" if cm[i, j] > thresh else \"black\")\n",
        "\n",
        "plt.ylabel('True label')\n",
        "plt.xlabel('Predicted label')\n",
        "plt.tight_layout()\n",
        "plt.show()"
      ],
      "metadata": {
        "colab": {
          "base_uri": "https://localhost:8080/",
          "height": 607
        },
        "id": "8AZ1tagAfPf5",
        "outputId": "545cf54c-9266-44e5-d529-18389fe226d3"
      },
      "execution_count": null,
      "outputs": [
        {
          "output_type": "display_data",
          "data": {
            "text/plain": [
              "<Figure size 800x600 with 2 Axes>"
            ],
            "image/png": "[encoded data removed]"
          },
          "metadata": {}
        }
      ]
    },
    {
      "cell_type": "markdown",
      "source": [
        "# Test 2"
      ],
      "metadata": {
        "id": "OUdkbdXgaOac"
      }
    },
    {
      "cell_type": "code",
      "source": [
        "Testset_path2 = '/content/drive/MyDrive/Test2.json'"
      ],
      "metadata": {
        "id": "0zGe9EYSaFqh"
      },
      "execution_count": null,
      "outputs": []
    },
    {
      "cell_type": "code",
      "source": [
        "X_test2, Y_test2 = load_data(Testset_path2)"
      ],
      "metadata": {
        "id": "drQAcXodaUgQ"
      },
      "execution_count": null,
      "outputs": []
    },
    {
      "cell_type": "code",
      "source": [
        "X_test2.shape"
      ],
      "metadata": {
        "colab": {
          "base_uri": "https://localhost:8080/"
        },
        "id": "kabw08saaX8Z",
        "outputId": "ef54d116-acbc-40ef-a30c-5ff5933377c3"
      },
      "execution_count": null,
      "outputs": [
        {
          "output_type": "execute_result",
          "data": {
            "text/plain": [
              "(26, 30, 39)"
            ]
          },
          "metadata": {},
          "execution_count": 52
        }
      ]
    },
    {
      "cell_type": "code",
      "source": [
        "X_test2, _, Y_test2, _ = train_test_split(X_test2, Y_test2, test_size=0.05, random_state=7,shuffle=True)"
      ],
      "metadata": {
        "id": "eojsJEUBad1d"
      },
      "execution_count": null,
      "outputs": []
    },
    {
      "cell_type": "code",
      "source": [
        "X_test2.shape"
      ],
      "metadata": {
        "colab": {
          "base_uri": "https://localhost:8080/"
        },
        "id": "929JksRHajRB",
        "outputId": "8f458281-6fc7-4cf2-c99a-1a77a0b86657"
      },
      "execution_count": null,
      "outputs": [
        {
          "output_type": "execute_result",
          "data": {
            "text/plain": [
              "(24, 30, 39)"
            ]
          },
          "metadata": {},
          "execution_count": 54
        }
      ]
    },
    {
      "cell_type": "code",
      "source": [
        "test_loss2, test_acc2 = model.evaluate(X_test2, Y_test2, verbose=1)\n",
        "print('\\nTest accuracy:', test_acc2)"
      ],
      "metadata": {
        "colab": {
          "base_uri": "https://localhost:8080/"
        },
        "id": "z1FZHXVnapCK",
        "outputId": "21eb2b64-c82f-4c0d-8352-dadf240673b1"
      },
      "execution_count": null,
      "outputs": [
        {
          "output_type": "stream",
          "name": "stdout",
          "text": [
            "1/1 [==============================] - 0s 35ms/step - loss: 1.3277 - accuracy: 0.6250\n",
            "\n",
            "Test accuracy: 0.625\n"
          ]
        }
      ]
    },
    {
      "cell_type": "code",
      "source": [
        "Y_predict2 = model.predict(X_test2)"
      ],
      "metadata": {
        "colab": {
          "base_uri": "https://localhost:8080/"
        },
        "id": "Ttgu6a-Wawl5",
        "outputId": "9da1c066-9746-44ac-dc73-a8e5c9356e80"
      },
      "execution_count": null,
      "outputs": [
        {
          "output_type": "stream",
          "name": "stdout",
          "text": [
            "1/1 [==============================] - 0s 49ms/step\n"
          ]
        }
      ]
    },
    {
      "cell_type": "code",
      "source": [
        "threshold = 0.5  # Set your threshold here (can be adjusted based on your requirements)\n",
        "\n",
        "# Convert probabilities to class labels based on the threshold\n",
        "predicted_labels2 = (Y_predict2 > threshold).astype(int)"
      ],
      "metadata": {
        "id": "TRKZAQe9a2iP"
      },
      "execution_count": null,
      "outputs": []
    },
    {
      "cell_type": "code",
      "source": [
        "# Calculate confusion matrix\n",
        "cm = confusion_matrix(Y_test2, predicted_labels2)\n",
        "\n",
        "# Create a figure and plot the confusion matrix\n",
        "plt.figure(figsize=(8, 6))\n",
        "plt.imshow(cm, interpolation='nearest', cmap=plt.cm.Blues)\n",
        "plt.title('Confusion Matrix')\n",
        "plt.colorbar()\n",
        "\n",
        "classes = ['Class 0', 'Class 1']  # Replace with your class labels if needed\n",
        "tick_marks = np.arange(len(classes))\n",
        "plt.xticks(tick_marks, classes)\n",
        "plt.yticks(tick_marks, classes)\n",
        "\n",
        "# Add labels to each cell\n",
        "thresh = cm.max() / 2.\n",
        "for i, j in np.ndindex(cm.shape):\n",
        "    plt.text(j, i, format(cm[i, j], 'd'),\n",
        "             horizontalalignment=\"center\",\n",
        "             color=\"white\" if cm[i, j] > thresh else \"black\")\n",
        "\n",
        "plt.ylabel('True label')\n",
        "plt.xlabel('Predicted label')\n",
        "plt.tight_layout()\n",
        "plt.show()"
      ],
      "metadata": {
        "colab": {
          "base_uri": "https://localhost:8080/",
          "height": 607
        },
        "id": "cLeMfJ8Ga50s",
        "outputId": "27ca3175-6226-4ae8-c309-ee28ebdca8c4"
      },
      "execution_count": null,
      "outputs": [
        {
          "output_type": "display_data",
          "data": {
            "text/plain": [
              "<Figure size 800x600 with 2 Axes>"
            ],
            "image/png": "[encoded data removed]"
          },
          "metadata": {}
        }
      ]
    }
  ]
}